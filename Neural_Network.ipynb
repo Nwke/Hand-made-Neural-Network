{
 "cells": [
  {
   "cell_type": "code",
   "execution_count": 3,
   "metadata": {},
   "outputs": [],
   "source": [
    "import numpy as np\n",
    "import matplotlib.pyplot as plt\n",
    "import scipy.special"
   ]
  },
  {
   "cell_type": "code",
   "execution_count": 4,
   "metadata": {},
   "outputs": [],
   "source": [
    "%matplotlib inline"
   ]
  },
  {
   "cell_type": "markdown",
   "metadata": {},
   "source": [
    "# Neural Network"
   ]
  },
  {
   "cell_type": "markdown",
   "metadata": {},
   "source": [
    "A weights matrix for passing inputs forward into a neural network is presented below. The weights matrix will be transposed (.T) when a net is passing backprop."
   ]
  },
  {
   "cell_type": "markdown",
   "metadata": {},
   "source": [
    "<br>w11  w21 w31 w41 \n",
    "<br>w12\n",
    "<br>w13\n",
    "<br>w14   &nbsp; &nbsp; &nbsp; &nbsp;&nbsp; &nbsp; &nbsp;       wnn    \n"
   ]
  },
  {
   "cell_type": "code",
   "execution_count": 31,
   "metadata": {},
   "outputs": [],
   "source": [
    "class Neural_network:\n",
    "    def __init__(self, in_nodes, hidden_nodes, out_nodes, lr=0.3):\n",
    "        self.in_nodes = in_nodes\n",
    "        self.h_nodes = hidden_nodes\n",
    "        self.out_nodes = out_nodes\n",
    "        \n",
    "        self.lr = lr\n",
    "        self.activation_function = lambda x: scipy.special.expit(x)\n",
    "        \n",
    "        # weights matrix with values from -0.5 to 0.5\n",
    "        self.w_input_hidden = np.random.rand(self.h_nodes, self.in_nodes) - 0.5\n",
    "        self.w_hidden_output = np.random.rand(self.out_nodes, self.h_nodes) - 0.5\n",
    "        \n",
    "    def train(self, inputs_list, targets_list):\n",
    "        inputs = np.array(inputs_list, ndmin=2).T\n",
    "        targets = np.array(targets_list, ndmin=2).T\n",
    "        \n",
    "        final_outputs, hidden_outputs = self.out(inputs_list)\n",
    "        \n",
    "        \n",
    "        output_errors = targets - final_outputs\n",
    "        hidden_errors = np.dot(self.w_hidden_output.T, output_errors)\n",
    "        \n",
    "        \n",
    "        self.w_hidden_output += self.lr * np.dot((output_errors * final_outputs * (1 - final_outputs)), \n",
    "                                                 (hidden_outputs.T))\n",
    "        \n",
    "        self.w_input_hidden += self.lr * np.dot((hidden_errors * hidden_outputs  * (1 - hidden_outputs)), \n",
    "                                                 (inputs.T))\n",
    "    \n",
    "    def out(self, inputs_list):\n",
    "        inputs = np.array(inputs_list, ndmin=2).T\n",
    "        \n",
    "        hidden_inputs = np.dot(self.w_input_hidden, inputs)\n",
    "        hidden_outputs = self.activation_function(hidden_inputs)\n",
    "        \n",
    "        final_inputs = np.dot(self.w_hidden_output, hidden_outputs)\n",
    "        final_outputs = self.activation_function(final_inputs)\n",
    "        \n",
    "        return final_outputs, hidden_outputs\n",
    "    \n",
    "    \n",
    "    def get_predict(self, inputs_list):\n",
    "        final_outputs, hidden_outputs = self.out(inputs_list)\n",
    "        return final_outputs\n",
    "    \n",
    "    \n",
    "# A heuristic for improving the weights inizialization\n",
    "# self.wih = np.random.normal(0.0, pow(self.h_nodes, -0.5), (self.h_nodes, self.in_nodes))\n",
    "# self.who = np.random.normal(0.0, pow(self.out_nodes, -0.5), (self.out_nodes, self.h_nodes))\n"
   ]
  },
  {
   "cell_type": "code",
   "execution_count": 32,
   "metadata": {},
   "outputs": [],
   "source": [
    "input_nodes = 784\n",
    "hidden_nodes = 100\n",
    "output_nodes = 10\n",
    "\n",
    "lr = 0.3\n",
    "net = Neural_network(input_nodes, hidden_nodes, output_nodes, lr)"
   ]
  },
  {
   "cell_type": "code",
   "execution_count": 33,
   "metadata": {},
   "outputs": [],
   "source": [
    "with open('./mnist_train.csv', 'r') as f:\n",
    "    training_data_list = f.readlines()"
   ]
  },
  {
   "cell_type": "code",
   "execution_count": null,
   "metadata": {},
   "outputs": [
    {
     "name": "stdout",
     "output_type": "stream",
     "text": [
      "epoch 0, record: 39444/60001\r"
     ]
    }
   ],
   "source": [
    "epochs = 1\n",
    "for epoch in range(epochs):\n",
    "    for ind_rec, record in enumerate(training_data_list[1:]):\n",
    "        print(f'epoch {epoch}, record: {ind_rec}/{len(training_data_list)}', end='\\r')\n",
    "        \n",
    "        all_values = record.split(',')\n",
    "        inputs = np.asfarray(all_values[1:]) / 255 * 0.99 + 0.01\n",
    "        targets = np.zeros(output_nodes) + 0.01\n",
    "        targets[int(all_values[0])] = 0.99\n",
    "\n",
    "        net.train(inputs, targets)"
   ]
  },
  {
   "cell_type": "code",
   "execution_count": null,
   "metadata": {},
   "outputs": [],
   "source": [
    "with open('./mnist_test.csv', 'r') as f:\n",
    "    test_data_list = f.readlines()[1:]"
   ]
  },
  {
   "cell_type": "code",
   "execution_count": null,
   "metadata": {},
   "outputs": [],
   "source": [
    "scorecard = []\n",
    "\n",
    "for record in test_data_list:\n",
    "    all_values = record.split(',')\n",
    "    correct_label = int(all_values[0])\n",
    "    \n",
    "    inputs = np.asfarray(all_values[1:]) / 255 * 0.99 + 0.01\n",
    "    outputs = net.get_predict(inputs)\n",
    "    out_label = np.argmax(outputs)\n",
    "    \n",
    "    # print(f'The net answer is: {out_label}, The correct answer is: {correct_label}')\n",
    "    \n",
    "    if out_label == correct_label:\n",
    "        scorecard.append(1)\n",
    "    else:\n",
    "        scorecard.append(0)\n",
    "        \n",
    "        \n",
    "print(f'\\nAccuracy of the network is {scorecard.count(1) / len(scorecard)}')"
   ]
  }
 ],
 "metadata": {
  "kernelspec": {
   "display_name": "Python 3",
   "language": "python",
   "name": "python3"
  },
  "language_info": {
   "codemirror_mode": {
    "name": "ipython",
    "version": 3
   },
   "file_extension": ".py",
   "mimetype": "text/x-python",
   "name": "python",
   "nbconvert_exporter": "python",
   "pygments_lexer": "ipython3",
   "version": "3.7.3"
  }
 },
 "nbformat": 4,
 "nbformat_minor": 2
}
